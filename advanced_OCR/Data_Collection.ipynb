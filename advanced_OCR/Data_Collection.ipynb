{
 "cells": [
  {
   "cell_type": "code",
   "execution_count": 1,
   "id": "02174983",
   "metadata": {},
   "outputs": [],
   "source": [
    "import os\n",
    "import requests\n",
    "from bs4 import BeautifulSoup\n",
    "from urllib.parse import urljoin\n",
    "\n",
    "# Step 1: Set the URL of the website containing the PDF and image files\n",
    "url = \"https://ieltsfever.org/academic-reading/\"\n",
    "\n",
    "# Step 2: Parse the HTML content of the website and extract the URLs of the PDF and image files\n",
    "response = requests.get(url)\n",
    "soup = BeautifulSoup(response.content, 'html.parser')\n",
    "\n",
    "# Find all the links that end with .pdf or .jpg/.png\n",
    "pdf_links = [link['href'] for link in soup.find_all('a') if link.get('href') and link['href'].endswith('.pdf')]\n",
    "image_links = [link['src'] for link in soup.find_all('img') if link.get('src') and (link['src'].endswith('.jpg') or link['src'].endswith('.png'))]\n",
    "\n",
    "# Step 3: Download the PDF and image files and save them to a directory on your local machine\n",
    "if not os.path.exists('pdf_documents'):\n",
    "    os.makedirs('pdf_documents')\n",
    "if not os.path.exists('image_documents'):\n",
    "    os.makedirs('image_documents')\n",
    "\n",
    "for link in pdf_links:\n",
    "    response = requests.get(urljoin(url, link))\n",
    "    # Shorten the file name if it is too long\n",
    "    file_name = os.path.basename(link)\n",
    "    if len(file_name) > 100:\n",
    "        file_name = file_name[:50] + '...' + file_name[-47:]\n",
    "    with open(f'pdf_documents/{file_name}', 'wb') as f:\n",
    "        f.write(response.content)\n",
    "\n",
    "for link in image_links:\n",
    "    response = requests.get(urljoin(url, link))\n",
    "    # Shorten the file name if it is too long\n",
    "    file_name = os.path.basename(link)\n",
    "    if len(file_name) > 100:\n",
    "        file_name = file_name[:50] + '...' + file_name[-47:]\n",
    "    with open(f'image_documents/{file_name}', 'wb') as f:\n",
    "        f.write(response.content)\n"
   ]
  },
  {
   "cell_type": "code",
   "execution_count": null,
   "id": "8e831419",
   "metadata": {},
   "outputs": [],
   "source": []
  }
 ],
 "metadata": {
  "kernelspec": {
   "display_name": "Python 3 (ipykernel)",
   "language": "python",
   "name": "python3"
  },
  "language_info": {
   "codemirror_mode": {
    "name": "ipython",
    "version": 3
   },
   "file_extension": ".py",
   "mimetype": "text/x-python",
   "name": "python",
   "nbconvert_exporter": "python",
   "pygments_lexer": "ipython3",
   "version": "3.9.13"
  }
 },
 "nbformat": 4,
 "nbformat_minor": 5
}
